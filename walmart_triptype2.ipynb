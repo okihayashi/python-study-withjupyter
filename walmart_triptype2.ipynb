{
 "cells": [
  {
   "cell_type": "code",
   "execution_count": 2,
   "metadata": {
    "collapsed": false
   },
   "outputs": [
    {
     "name": "stderr",
     "output_type": "stream",
     "text": [
      "/Users/oki.hayashi/.pyenv/versions/anaconda3-2.5.0/lib/python3.5/site-packages/sklearn/utils/validation.py:515: DataConversionWarning: A column-vector y was passed when a 1d array was expected. Please change the shape of y to (n_samples, ), for example using ravel().\n",
      "  y = column_or_1d(y, warn=True)\n"
     ]
    },
    {
     "name": "stdout",
     "output_type": "stream",
     "text": [
      "The model coefficients are:\n",
      "[[-0.49503621 -0.9017579  -0.83561415 ...,  0.12769308 -0.56959706\n",
      "  -0.15487535]\n",
      " [-0.88119794 -1.01058735 -0.97502646 ..., -0.27433261 -0.16792947\n",
      "  -0.49311275]\n",
      " [-0.5764323  -0.55980293 -0.67948834 ..., -1.65609683 -1.09433178\n",
      "  -0.52449913]\n",
      " ..., \n",
      " [-0.40601631 -0.51838814 -0.55673172 ...,  0.35145829  0.54270514\n",
      "  -0.99106227]\n",
      " [-0.45555996 -0.53373686 -0.25551127 ...,  0.28392851  0.34235587\n",
      "  -1.17428817]\n",
      " [-0.40842301 -0.34903945 -0.54400809 ...,  1.52697753  0.28120701\n",
      "   1.11381613]]\n",
      "The intercepts are:\n",
      "[-5.46868273 -6.79286664 -3.99846435 -5.42382221 -4.04400942 -4.03709217\n",
      " -2.97819612 -5.63081256 -8.70292618 -4.48700195 -5.21491187 -5.71106475\n",
      " -5.32121021 -5.22538366 -4.57236083 -7.10586436 -3.37622239 -2.94889284\n",
      " -5.31311823 -4.96481086 -5.28903858 -5.37556996 -4.4909654  -5.77396662\n",
      " -3.94065178 -4.4548934  -5.06293322 -4.63083017 -3.63593672 -3.55515446\n",
      " -3.83292218 -2.09951806 -1.78495879 -3.95853973 -2.85460496 -3.91724266\n",
      " -2.86935919 -2.73651934]\n",
      "model created after 158.097884 seconds\n",
      "finished after 174.074675 seconds\n"
     ]
    }
   ],
   "source": [
    "import pandas as pd\n",
    "import numpy as np\n",
    "import scipy as sp\n",
    "from sklearn.linear_model import LogisticRegression\n",
    "import time\n",
    "\n",
    "start_time = time.time()\n",
    "\n",
    "waltrain = pd.read_csv('train_triptype.csv')\n",
    "waltest = pd.read_csv('test_triptype.csv')\n",
    "waltrain = waltrain[waltrain.FinelineNumber.notnull()]\n",
    "waltrain_part = waltrain[:]\n",
    "waltest_part = waltest[:]\n",
    "\n",
    "model = LogisticRegression()\n",
    "x = waltrain_part[['Weekday', 'DepartmentDescription']]\n",
    "y = waltrain_part[['TripType']]\n",
    "x = pd.get_dummies(x)\n",
    "z = waltest_part[['Weekday', 'DepartmentDescription']]\n",
    "\n",
    "zend = pd.DataFrame({'Weekday': ['Sunday'],\n",
    "'DepartmentDescription': ['HEALTH AND BEAUTY AIDS']},\n",
    "index = [len(z)])\n",
    "z = z.append(zend)\n",
    "z = pd.get_dummies(z)\n",
    "\n",
    "model.fit(x, y)\n",
    "print (\"The model coefficients are:\")\n",
    "print (model.coef_)\n",
    "print (\"The intercepts are:\")\n",
    "print (model.intercept_)\n",
    "\n",
    "print (\"model created after %f seconds\" % (time.time() - start_time))\n",
    "\n",
    "submission = model.predict_proba(z)\n",
    "submissiondf = pd.DataFrame(submission)\n",
    "\n",
    "submissiondf.drop(len(submissiondf)-1)\n",
    "\n",
    "dex = waltest.iloc[:,0]\n",
    "submurge = pd.concat([dex,submissiondf], axis = 1)\n",
    "avgmurg = submurge.groupby(submurge.VisitNumber).mean()\n",
    "avgmurg.reset_index(drop = True, inplace = True)\n",
    "avgmurg.columns = ['VisitNumber', 'TripType_3','TripType_4','TripType_5','TripType_6','TripType_7',\\\n",
    "'TripType_8','TripType_9','TripType_12','TripType_14','TripType_15','TripType_18',\\\n",
    "'TripType_19','TripType_20','TripType_21','TripType_22','TripType_23','TripType_24',\\\n",
    "'TripType_25','TripType_26','TripType_27','TripType_28','TripType_29','TripType_30',\\\n",
    "'TripType_31','TripType_32','TripType_33','TripType_34','TripType_35','TripType_36',\\\n",
    "'TripType_37','TripType_38','TripType_39','TripType_40','TripType_41','TripType_42',\\\n",
    "'TripType_43','TripType_44','TripType_999']\n",
    "\n",
    "avgmurg[['VisitNumber']] = avgmurg[['VisitNumber']].astype(int)\n",
    "avgmurg.to_csv('KaggleSub_04.csv', index = False)\n",
    "\n",
    "print (\"finished after %f seconds\" % (time.time() - start_time))"
   ]
  }
 ],
 "metadata": {
  "kernelspec": {
   "display_name": "Python 3",
   "language": "python",
   "name": "python3"
  },
  "language_info": {
   "codemirror_mode": {
    "name": "ipython",
    "version": 3
   },
   "file_extension": ".py",
   "mimetype": "text/x-python",
   "name": "python",
   "nbconvert_exporter": "python",
   "pygments_lexer": "ipython3",
   "version": "3.5.2"
  }
 },
 "nbformat": 4,
 "nbformat_minor": 2
}

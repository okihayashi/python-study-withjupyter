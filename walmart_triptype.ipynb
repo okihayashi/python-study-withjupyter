{
 "cells": [
  {
   "cell_type": "code",
   "execution_count": 24,
   "metadata": {
    "collapsed": false
   },
   "outputs": [],
   "source": [
    "import pandas as pd\n",
    "import numpy as np\n",
    "\n",
    "train = pd.read_csv(\"train_triptype.csv\", sep=\",\")\n",
    "train = train.dropna()\n",
    "train = train[0:40000]"
   ]
  },
  {
   "cell_type": "code",
   "execution_count": 23,
   "metadata": {
    "collapsed": false
   },
   "outputs": [
    {
     "data": {
      "text/plain": [
       "0.34396428571428572"
      ]
     },
     "execution_count": 23,
     "metadata": {},
     "output_type": "execute_result"
    }
   ],
   "source": [
    "from sklearn.cross_validation import train_test_split\n",
    "from sklearn.linear_model import LogisticRegression\n",
    "from sklearn import neighbors\n",
    "from sklearn import svm\n",
    "from sklearn.metrics import accuracy_score\n",
    "\n",
    "#data = train.loc[:,['VisitNumber','Upc','ScanCount','FinelineNumber']]\n",
    "#data = train.loc[:,['Weekday', 'DepartmentDescription']]\n",
    "data = train[['Weekday','DepartmentDescription']]\n",
    "data = pd.get_dummies(data)\n",
    "\n",
    "label = train['TripType']\n",
    "data_train, data_test, label_train, label_true = train_test_split(data, label, test_size=0.7)\n",
    "\n",
    "x = data_train.as_matrix()\n",
    "y = label_train.as_matrix()\n",
    "\n",
    "model = LogisticRegression()\n",
    "model.fit(x, y)\n",
    "\n",
    "#knn = neighbors.KNeighborsClassifier()\n",
    "#knn.fit(x, y)\n",
    "\n",
    "#svc = svm.SVC(kernel='linear')\n",
    "#svc.fit(x, y)\n",
    "\n",
    "label_prediction = model.predict(data_test)\n",
    "accuracy_score(label_true, label_prediction)\n"
   ]
  },
  {
   "cell_type": "code",
   "execution_count": null,
   "metadata": {
    "collapsed": true
   },
   "outputs": [],
   "source": []
  }
 ],
 "metadata": {
  "kernelspec": {
   "display_name": "Python 3",
   "language": "python",
   "name": "python3"
  },
  "language_info": {
   "codemirror_mode": {
    "name": "ipython",
    "version": 3
   },
   "file_extension": ".py",
   "mimetype": "text/x-python",
   "name": "python",
   "nbconvert_exporter": "python",
   "pygments_lexer": "ipython3",
   "version": "3.5.2"
  }
 },
 "nbformat": 4,
 "nbformat_minor": 2
}
